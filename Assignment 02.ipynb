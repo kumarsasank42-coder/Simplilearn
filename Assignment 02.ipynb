{
  "nbformat": 4,
  "nbformat_minor": 0,
  "metadata": {
    "kernelspec": {
      "display_name": "Python 3",
      "language": "python",
      "name": "python3"
    },
    "language_info": {
      "codemirror_mode": {
        "name": "ipython",
        "version": 3
      },
      "file_extension": ".py",
      "mimetype": "text/x-python",
      "name": "python",
      "nbconvert_exporter": "python",
      "pygments_lexer": "ipython3",
      "version": "3.5.1"
    },
    "colab": {
      "name": "Assignment 02.ipynb",
      "provenance": []
    }
  },
  "cells": [
    {
      "cell_type": "markdown",
      "metadata": {
        "id": "RIK7u0nGHLI1"
      },
      "source": [
        "<img src=\"http://cfs22.simplicdn.net/ice9/new_logo.svgz \"/>\n",
        "\n",
        "# Assignment 02: Evaluate the Summer Olympics, London 2012 dataset\n",
        "\n",
        "*The comments/sections provided are your cues to perform the assignment. You don't need to limit yourself to the number of rows/cells provided. You can add additional rows in each section to add more lines of code.*\n",
        "\n",
        "*If at any point in time you need help on solving this assignment, view our demo video to understand the different steps of the code.*\n",
        "\n",
        "**Happy coding!**\n",
        "\n",
        "* * *"
      ]
    },
    {
      "cell_type": "markdown",
      "metadata": {
        "id": "mVJIIybNHLI7"
      },
      "source": [
        "#### 1: View and add the dataset"
      ]
    },
    {
      "cell_type": "code",
      "metadata": {
        "collapsed": true,
        "id": "mXKL62BBHLI9"
      },
      "source": [
        "#Import the necessary library\n",
        "import numpy as np"
      ],
      "execution_count": 4,
      "outputs": []
    },
    {
      "cell_type": "code",
      "metadata": {
        "collapsed": true,
        "id": "KRWIMM4NHLI-"
      },
      "source": [
        "#Manually add the Summer Olympics, London 2012 dataset as arrays\n",
        "np_olympic_country = np.array(['Great Britain','China','Russia','United States','Korea','Japan','Germany'])\n",
        "np_country_code = np.array(['GBR','CHN','RUS','US','KOR','JPN','GER'])\n",
        "np_country_gold = np.array([29,38,24,46,13,7,11])\n",
        "np_country_silver = np.array([17,28,25,28,8,14,11])\n",
        "np_country_bronze = np.array ([19,22,32,29,7,17,14])"
      ],
      "execution_count": 5,
      "outputs": []
    },
    {
      "cell_type": "markdown",
      "metadata": {
        "id": "ly91z2xGHLJA"
      },
      "source": [
        "#### Find the country with maximum gold medals"
      ]
    },
    {
      "cell_type": "code",
      "metadata": {
        "collapsed": true,
        "colab": {
          "base_uri": "https://localhost:8080/",
          "height": 35
        },
        "id": "Vx8d_27JHLJB",
        "outputId": "42350536-83b3-471c-872c-5887296f0d13"
      },
      "source": [
        "#Use the argmax() method to find the highest number of gold medals\n",
        "max_gold_index = np_country_gold.argmax()\n",
        "country_with_max_gold = np_olympic_country[max_gold_index]\n"
      ],
      "execution_count": 7,
      "outputs": [
        {
          "output_type": "execute_result",
          "data": {
            "application/vnd.google.colaboratory.intrinsic+json": {
              "type": "string"
            },
            "text/plain": [
              "'United States'"
            ]
          },
          "metadata": {
            "tags": []
          },
          "execution_count": 7
        }
      ]
    },
    {
      "cell_type": "code",
      "metadata": {
        "colab": {
          "base_uri": "https://localhost:8080/",
          "height": 35
        },
        "id": "-5NvtPB9HLJC",
        "outputId": "146e563d-0dff-4e7e-df3e-5a3f254befd8"
      },
      "source": [
        "#Print the name of the country\n",
        "country_with_max_gold"
      ],
      "execution_count": 8,
      "outputs": [
        {
          "output_type": "execute_result",
          "data": {
            "application/vnd.google.colaboratory.intrinsic+json": {
              "type": "string"
            },
            "text/plain": [
              "'United States'"
            ]
          },
          "metadata": {
            "tags": []
          },
          "execution_count": 8
        }
      ]
    },
    {
      "cell_type": "markdown",
      "metadata": {
        "id": "rvGw6TB4HLJD"
      },
      "source": [
        "#### Find the countries with more than 20 gold medals"
      ]
    },
    {
      "cell_type": "code",
      "metadata": {
        "colab": {
          "base_uri": "https://localhost:8080/"
        },
        "id": "AYKPZ808HLJE",
        "outputId": "f2372812-c398-4404-d17f-df54f2c7d580"
      },
      "source": [
        "#Use Boolean indexing technique to find the required output\n",
        "print(np_olympic_country[np_country_gold>20])"
      ],
      "execution_count": 9,
      "outputs": [
        {
          "output_type": "stream",
          "text": [
            "['Great Britain' 'China' 'Russia' 'United States']\n"
          ],
          "name": "stdout"
        }
      ]
    },
    {
      "cell_type": "markdown",
      "metadata": {
        "id": "_3RIiiCBHLJG"
      },
      "source": [
        "#### Evaluate the dataset and print the name of each country with its gold medals and total number of medals"
      ]
    },
    {
      "cell_type": "code",
      "metadata": {
        "colab": {
          "base_uri": "https://localhost:8080/"
        },
        "id": "_n3NvAoKHLJH",
        "outputId": "a32893c2-1d47-41e1-8da6-31aefed183ca"
      },
      "source": [
        "#Use a for loop to create the required output\n",
        "for i in range(len(np_olympic_country)):\n",
        "  gold_medal = np_country_gold[i]\n",
        "  country = np_olympic_country[i]\n",
        "  total_medal = np_country_gold[i]+np_country_silver[i]+np_country_bronze[i]\n",
        "  print(\"{},gold medal {}, total medal {}\".format(country,gold_medal,total_medal))"
      ],
      "execution_count": 10,
      "outputs": [
        {
          "output_type": "stream",
          "text": [
            "Great Britain,gold medal 29, total medal 65\n",
            "China,gold medal 38, total medal 88\n",
            "Russia,gold medal 24, total medal 81\n",
            "United States,gold medal 46, total medal 103\n",
            "Korea,gold medal 13, total medal 28\n",
            "Japan,gold medal 7, total medal 38\n",
            "Germany,gold medal 11, total medal 36\n"
          ],
          "name": "stdout"
        }
      ]
    },
    {
      "cell_type": "code",
      "metadata": {
        "id": "FiFVEe5FNh4Z"
      },
      "source": [
        ""
      ],
      "execution_count": null,
      "outputs": []
    }
  ]
}