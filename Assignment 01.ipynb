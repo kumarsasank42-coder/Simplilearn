{
  "nbformat": 4,
  "nbformat_minor": 0,
  "metadata": {
    "kernelspec": {
      "display_name": "Python 3",
      "language": "python",
      "name": "python3"
    },
    "language_info": {
      "codemirror_mode": {
        "name": "ipython",
        "version": 3
      },
      "file_extension": ".py",
      "mimetype": "text/x-python",
      "name": "python",
      "nbconvert_exporter": "python",
      "pygments_lexer": "ipython3",
      "version": "3.5.1"
    },
    "colab": {
      "name": "Assignment 01.ipynb",
      "provenance": []
    }
  },
  "cells": [
    {
      "cell_type": "markdown",
      "metadata": {
        "id": "hOoCTV2v58gm"
      },
      "source": [
        "<img src=\"http://cfs22.simplicdn.net/ice9/new_logo.svgz \"/>\n",
        "\n",
        "# Assignment 01: Evaluate the GDP Dataset\n",
        "\n",
        "*The comments/sections provided are your cues to perform the assignment. You don't need to limit yourself to the number of rows/cells provided. You can add additional rows in each section to add more lines of code.*\n",
        "\n",
        "*If at any point in time you need help on solving this assignment, view our demo video to understand the different steps of the code.*\n",
        "\n",
        "**Happy coding!**\n",
        "\n",
        "* * *"
      ]
    },
    {
      "cell_type": "markdown",
      "metadata": {
        "id": "I5owDT1s58gs"
      },
      "source": [
        "#### 1: View and add the dataset"
      ]
    },
    {
      "cell_type": "code",
      "metadata": {
        "collapsed": true,
        "id": "AHGip74v58gt"
      },
      "source": [
        "#Import required library\n",
        "import numpy as np"
      ],
      "execution_count": 1,
      "outputs": []
    },
    {
      "cell_type": "code",
      "metadata": {
        "collapsed": true,
        "id": "gmHNd7WR58gt"
      },
      "source": [
        "#Manually add the dataset\n",
        "countries= np.array(['Algeria','Angola','Argentina','Australia','Austria','Bahamas','Bangladesh','Belarus','Belgium','Bhutan','Brazil','Bulgaria','Cambodia','Cameroon','Chile','China','Colombia','Cyprus','Denmark','El Salvador','Estonia','Ethiopia','Fiji','Finland','France','Georgia','Ghana','Grenada','Guinea','Haiti','Honduras','Hungary','India','Indonesia','Ireland','Italy','Japan','Kenya', 'South Korea','Liberia','Malaysia','Mexico', 'Morocco','Nepal','New Zealand','Norway','Pakistan', 'Peru','Qatar','Russia','Singapore','South Africa','Spain','Sweden','Switzerland','Thailand', 'United Arab Emirates','United Kingdom','United States','Uruguay','Venezuela','Vietnam','Zimbabwe'])\n",
        "gdp_per_capita= np.array([2255.225482,629.9553062,11601.63022,25306.82494,27266.40335,19466.99052,588.3691778,2890.345675,24733.62696,1445.760002,4803.398244,2618.876037,590.4521124,665.7982328,7122.938458,2639.54156,3362.4656,15378.16704,30860.12808,2579.115607,6525.541272,229.6769525,2242.689259,27570.4852,23016.84778,1334.646773,402.6953275,6047.200797,394.1156638,385.5793827,1414.072488,5745.981529,837.7464011,1206.991065,27715.52837,18937.24998,39578.07441,478.2194906,16684.21278,279.2204061,5345.213415,6288.25324,1908.304416,274.8728621,14646.42094,40034.85063,672.1547506,3359.517402,36152.66676,3054.727742,33529.83052,3825.093781,15428.32098,33630.24604,39170.41371,2699.123242,21058.43643,28272.40661,37691.02733,9581.05659,5671.912202,757.4009286,347.7456605])"
      ],
      "execution_count": 4,
      "outputs": []
    },
    {
      "cell_type": "markdown",
      "metadata": {
        "collapsed": true,
        "id": "FLoq5ajX58gu"
      },
      "source": [
        "#### 2: Find and print the name of the country with the highest GDP"
      ]
    },
    {
      "cell_type": "code",
      "metadata": {
        "id": "JQRSqK2M58gu"
      },
      "source": [
        "#Use the argmax() method to find the highest GDP\n",
        "highest_gdp = gdp_per_capita.argmax()"
      ],
      "execution_count": 5,
      "outputs": []
    },
    {
      "cell_type": "code",
      "metadata": {
        "collapsed": true,
        "id": "rqlXtXi458gu",
        "outputId": "1d3da93d-02ef-4afb-830d-fbc02c2189d1",
        "colab": {
          "base_uri": "https://localhost:8080/",
          "height": 35
        }
      },
      "source": [
        "#Print the name of the country\n",
        "countries_with_highest_gdp = countries[highest_gdp]\n",
        "countries_with_highest_gdp"
      ],
      "execution_count": 7,
      "outputs": [
        {
          "output_type": "execute_result",
          "data": {
            "application/vnd.google.colaboratory.intrinsic+json": {
              "type": "string"
            },
            "text/plain": [
              "'Norway'"
            ]
          },
          "metadata": {
            "tags": []
          },
          "execution_count": 7
        }
      ]
    },
    {
      "cell_type": "markdown",
      "metadata": {
        "collapsed": false,
        "id": "0v0FbcHZ58gv"
      },
      "source": [
        "#### 3: Find and print the name of the country with the lowest GDP"
      ]
    },
    {
      "cell_type": "code",
      "metadata": {
        "collapsed": true,
        "id": "QyCOwUq658gv"
      },
      "source": [
        "#Use the argmin() method to find the lowest GDP\n",
        "lowest_gdp = gdp_per_capita.argmin()\n",
        "countries_with_lowest_gdp = countries[lowest_gdp]"
      ],
      "execution_count": 8,
      "outputs": []
    },
    {
      "cell_type": "code",
      "metadata": {
        "collapsed": true,
        "id": "c7gKt-eg58gv",
        "outputId": "33b474f6-2364-4a24-b227-b1439b452f4e",
        "colab": {
          "base_uri": "https://localhost:8080/",
          "height": 35
        }
      },
      "source": [
        "#Print the name of the country\n",
        "countries_with_lowest_gdp"
      ],
      "execution_count": 9,
      "outputs": [
        {
          "output_type": "execute_result",
          "data": {
            "application/vnd.google.colaboratory.intrinsic+json": {
              "type": "string"
            },
            "text/plain": [
              "'Ethiopia'"
            ]
          },
          "metadata": {
            "tags": []
          },
          "execution_count": 9
        }
      ]
    },
    {
      "cell_type": "markdown",
      "metadata": {
        "collapsed": false,
        "id": "hl6CUDCd58gw"
      },
      "source": [
        "#### 4: Print out text ('evaluating country') and input value ('country name') iteratively"
      ]
    },
    {
      "cell_type": "code",
      "metadata": {
        "id": "AIoecTGq58gw",
        "outputId": "f356b120-3c7a-42ee-bf84-4326323114cc",
        "colab": {
          "base_uri": "https://localhost:8080/"
        }
      },
      "source": [
        "#Use a for loop to print the required output\n",
        "for country in countries:\n",
        "  print(\"escaluating countries {}\".format(country))"
      ],
      "execution_count": 10,
      "outputs": [
        {
          "output_type": "stream",
          "text": [
            "escaluating countries Algeria\n",
            "escaluating countries Angola\n",
            "escaluating countries Argentina\n",
            "escaluating countries Australia\n",
            "escaluating countries Austria\n",
            "escaluating countries Bahamas\n",
            "escaluating countries Bangladesh\n",
            "escaluating countries Belarus\n",
            "escaluating countries Belgium\n",
            "escaluating countries Bhutan\n",
            "escaluating countries Brazil\n",
            "escaluating countries Bulgaria\n",
            "escaluating countries Cambodia\n",
            "escaluating countries Cameroon\n",
            "escaluating countries Chile\n",
            "escaluating countries China\n",
            "escaluating countries Colombia\n",
            "escaluating countries Cyprus\n",
            "escaluating countries Denmark\n",
            "escaluating countries El Salvador\n",
            "escaluating countries Estonia\n",
            "escaluating countries Ethiopia\n",
            "escaluating countries Fiji\n",
            "escaluating countries Finland\n",
            "escaluating countries France\n",
            "escaluating countries Georgia\n",
            "escaluating countries Ghana\n",
            "escaluating countries Grenada\n",
            "escaluating countries Guinea\n",
            "escaluating countries Haiti\n",
            "escaluating countries Honduras\n",
            "escaluating countries Hungary\n",
            "escaluating countries India\n",
            "escaluating countries Indonesia\n",
            "escaluating countries Ireland\n",
            "escaluating countries Italy\n",
            "escaluating countries Japan\n",
            "escaluating countries Kenya\n",
            "escaluating countries South Korea\n",
            "escaluating countries Liberia\n",
            "escaluating countries Malaysia\n",
            "escaluating countries Mexico\n",
            "escaluating countries Morocco\n",
            "escaluating countries Nepal\n",
            "escaluating countries New Zealand\n",
            "escaluating countries Norway\n",
            "escaluating countries Pakistan\n",
            "escaluating countries Peru\n",
            "escaluating countries Qatar\n",
            "escaluating countries Russia\n",
            "escaluating countries Singapore\n",
            "escaluating countries South Africa\n",
            "escaluating countries Spain\n",
            "escaluating countries Sweden\n",
            "escaluating countries Switzerland\n",
            "escaluating countries Thailand\n",
            "escaluating countries United Arab Emirates\n",
            "escaluating countries United Kingdom\n",
            "escaluating countries United States\n",
            "escaluating countries Uruguay\n",
            "escaluating countries Venezuela\n",
            "escaluating countries Vietnam\n",
            "escaluating countries Zimbabwe\n"
          ],
          "name": "stdout"
        }
      ]
    },
    {
      "cell_type": "markdown",
      "metadata": {
        "id": "-0PkCbTD58gw"
      },
      "source": [
        "#### 5: Print out the entire list of the countries with their GDPs"
      ]
    },
    {
      "cell_type": "code",
      "metadata": {
        "id": "zsn2pyqw58gw",
        "outputId": "adc9ad39-9385-4000-e240-f82b1c12b760",
        "colab": {
          "base_uri": "https://localhost:8080/"
        }
      },
      "source": [
        "#Use a for loop to print the required list\n",
        "for i in range(len(countries)):\n",
        "  country = countries[i]\n",
        "  countries_gdp_per_capita = gdp_per_capita[i]\n",
        "  x= print(\"country {} gdp per capita {}\".format(country,countries_gdp_per_capita))\n",
        "  x"
      ],
      "execution_count": 13,
      "outputs": [
        {
          "output_type": "stream",
          "text": [
            "country Algeria gdp per capita 2255.225482\n",
            "country Angola gdp per capita 629.9553062\n",
            "country Argentina gdp per capita 11601.63022\n",
            "country Australia gdp per capita 25306.82494\n",
            "country Austria gdp per capita 27266.40335\n",
            "country Bahamas gdp per capita 19466.99052\n",
            "country Bangladesh gdp per capita 588.3691778\n",
            "country Belarus gdp per capita 2890.345675\n",
            "country Belgium gdp per capita 24733.62696\n",
            "country Bhutan gdp per capita 1445.760002\n",
            "country Brazil gdp per capita 4803.398244\n",
            "country Bulgaria gdp per capita 2618.876037\n",
            "country Cambodia gdp per capita 590.4521124\n",
            "country Cameroon gdp per capita 665.7982328\n",
            "country Chile gdp per capita 7122.938458\n",
            "country China gdp per capita 2639.54156\n",
            "country Colombia gdp per capita 3362.4656\n",
            "country Cyprus gdp per capita 15378.16704\n",
            "country Denmark gdp per capita 30860.12808\n",
            "country El Salvador gdp per capita 2579.115607\n",
            "country Estonia gdp per capita 6525.541272\n",
            "country Ethiopia gdp per capita 229.6769525\n",
            "country Fiji gdp per capita 2242.689259\n",
            "country Finland gdp per capita 27570.4852\n",
            "country France gdp per capita 23016.84778\n",
            "country Georgia gdp per capita 1334.646773\n",
            "country Ghana gdp per capita 402.6953275\n",
            "country Grenada gdp per capita 6047.200797\n",
            "country Guinea gdp per capita 394.1156638\n",
            "country Haiti gdp per capita 385.5793827\n",
            "country Honduras gdp per capita 1414.072488\n",
            "country Hungary gdp per capita 5745.981529\n",
            "country India gdp per capita 837.7464011\n",
            "country Indonesia gdp per capita 1206.991065\n",
            "country Ireland gdp per capita 27715.52837\n",
            "country Italy gdp per capita 18937.24998\n",
            "country Japan gdp per capita 39578.07441\n",
            "country Kenya gdp per capita 478.2194906\n",
            "country South Korea gdp per capita 16684.21278\n",
            "country Liberia gdp per capita 279.2204061\n",
            "country Malaysia gdp per capita 5345.213415\n",
            "country Mexico gdp per capita 6288.25324\n",
            "country Morocco gdp per capita 1908.304416\n",
            "country Nepal gdp per capita 274.8728621\n",
            "country New Zealand gdp per capita 14646.42094\n",
            "country Norway gdp per capita 40034.85063\n",
            "country Pakistan gdp per capita 672.1547506\n",
            "country Peru gdp per capita 3359.517402\n",
            "country Qatar gdp per capita 36152.66676\n",
            "country Russia gdp per capita 3054.727742\n",
            "country Singapore gdp per capita 33529.83052\n",
            "country South Africa gdp per capita 3825.093781\n",
            "country Spain gdp per capita 15428.32098\n",
            "country Sweden gdp per capita 33630.24604\n",
            "country Switzerland gdp per capita 39170.41371\n",
            "country Thailand gdp per capita 2699.123242\n",
            "country United Arab Emirates gdp per capita 21058.43643\n",
            "country United Kingdom gdp per capita 28272.40661\n",
            "country United States gdp per capita 37691.02733\n",
            "country Uruguay gdp per capita 9581.05659\n",
            "country Venezuela gdp per capita 5671.912202\n",
            "country Vietnam gdp per capita 757.4009286\n",
            "country Zimbabwe gdp per capita 347.7456605\n"
          ],
          "name": "stdout"
        }
      ]
    },
    {
      "cell_type": "markdown",
      "metadata": {
        "collapsed": false,
        "id": "CY0tDaMj58gx"
      },
      "source": [
        "#### 6: Print the following:\n",
        "1. Highest GPD value\n",
        "2. Lowest GDP value\n",
        "3. Mean GDP value\n",
        "4. Standardized GDP value\n",
        "5. Sum of all the GDPs"
      ]
    },
    {
      "cell_type": "code",
      "metadata": {
        "collapsed": true,
        "id": "MAIGZYXp58gx",
        "outputId": "5c12feaf-7358-4528-a7ba-3dbb997fae2d",
        "colab": {
          "base_uri": "https://localhost:8080/"
        }
      },
      "source": [
        "print(gdp_per_capita.max())\r\n",
        "print(gdp_per_capita.min())\r\n",
        "print(gdp_per_capita.mean())\r\n",
        "print(gdp_per_capita.std())\r\n",
        "print(gdp_per_capita.sum())"
      ],
      "execution_count": 18,
      "outputs": [
        {
          "output_type": "stream",
          "text": [
            "40034.85063\n",
            "229.6769525\n",
            "11289.409271639683\n",
            "12743.828910617945\n",
            "711232.7841133\n"
          ],
          "name": "stdout"
        }
      ]
    },
    {
      "cell_type": "code",
      "metadata": {
        "id": "1QVOFpEpAV5H"
      },
      "source": [
        ""
      ],
      "execution_count": 18,
      "outputs": []
    },
    {
      "cell_type": "code",
      "metadata": {
        "id": "Tjeyd5GtAdXl"
      },
      "source": [
        ""
      ],
      "execution_count": null,
      "outputs": []
    }
  ]
}